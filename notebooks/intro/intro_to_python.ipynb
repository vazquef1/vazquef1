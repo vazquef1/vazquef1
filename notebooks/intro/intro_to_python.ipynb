{
 "cells": [
  {
   "cell_type": "markdown",
   "metadata": {},
   "source": [
    "# Computational Assignment 1"
   ]
  },
  {
   "cell_type": "markdown",
   "metadata": {},
   "source": [
    " **Assigned Tuesday, 1-22-19.**, **Due Tuesday, 1-29-19.**"
   ]
  },
  {
   "cell_type": "markdown",
   "metadata": {},
   "source": [
    "Congratulations on installing the Jupyter Notebook! Welcomne to your first computational assignment!"
   ]
  },
  {
   "cell_type": "markdown",
   "metadata": {},
   "source": [
    "Beyond using this as a tool to understand physical chemistry, python and notebooks are actually used widely in scientific analysis. Big data analysis especially uses python notebooks."
   ]
  },
  {
   "cell_type": "markdown",
   "metadata": {},
   "source": [
    "## Introduction to the notebook"
   ]
  },
  {
   "cell_type": "markdown",
   "metadata": {},
   "source": [
    "If you double click on the text above, you will notice the look suddenly changes. Every section of the notebook, including the introductory text, is a technically a code entry. The text is written in a typesetting language called **Markdown**. To learn more see https://github.com/adam-p/markdown-here/wiki/Markdown-Cheatsheet"
   ]
  },
  {
   "cell_type": "markdown",
   "metadata": {},
   "source": [
    "To run a code entry in the notebook, select the section you want to run and type "
   ]
  },
  {
   "cell_type": "markdown",
   "metadata": {},
   "source": [
    "`shift+enter`"
   ]
  },
  {
   "cell_type": "markdown",
   "metadata": {},
   "source": [
    "If you want to make notes on a notebook, you can press the plus sign in the toolbar above to creat a new entry. Then make sure to switch the menu that in the toolbar from **code** to **Markdown**."
   ]
  },
  {
   "cell_type": "markdown",
   "metadata": {},
   "source": [
    "We can also run calculations this way."
   ]
  },
  {
   "cell_type": "markdown",
   "metadata": {},
   "source": [
    "In the entry below, I haved typed \n",
    "\n",
    "`123+3483`"
   ]
  },
  {
   "cell_type": "markdown",
   "metadata": {},
   "source": [
    "Select the entry and type `shift+enter`"
   ]
  },
  {
   "cell_type": "code",
   "execution_count": 1,
   "metadata": {
    "scrolled": true
   },
   "outputs": [
    {
     "data": {
      "text/plain": [
       "3606"
      ]
     },
     "execution_count": 1,
     "metadata": {},
     "output_type": "execute_result"
    }
   ],
   "source": [
    "123+3483"
   ]
  },
  {
   "cell_type": "markdown",
   "metadata": {},
   "source": [
    "Once you run an entry, the output is displayed on the screen, when applicable"
   ]
  },
  {
   "cell_type": "markdown",
   "metadata": {},
   "source": [
    "Now try some arithmatic yourself in the blank entry below."
   ]
  },
  {
   "cell_type": "markdown",
   "metadata": {},
   "source": [
    "(Don't forget to hit `shift+enter` to run your calculation!)"
   ]
  },
  {
   "cell_type": "code",
   "execution_count": null,
   "metadata": {
    "collapsed": true
   },
   "outputs": [],
   "source": []
  },
  {
   "cell_type": "markdown",
   "metadata": {},
   "source": [
    "## Introduction to programming and python"
   ]
  },
  {
   "cell_type": "markdown",
   "metadata": {},
   "source": [
    "Python is a very powerful and intuitive modern programming language. It is easier to learn than many other languages. Because of the wide availability of libraries such **numpy** and **scipy** (among many others), it is very useful for scientific calculations."
   ]
  },
  {
   "cell_type": "markdown",
   "metadata": {},
   "source": [
    "In this section, we will cover some very basic concepts. I assuming that nearly everyone has little or no previous programming experience, which is common for most chemistry and biology students. "
   ]
  },
  {
   "cell_type": "markdown",
   "metadata": {},
   "source": [
    "We will slowly build up to the skills we need to run complex calculations!"
   ]
  },
  {
   "cell_type": "markdown",
   "metadata": {},
   "source": [
    "### Our first python code: \"Hello World!\""
   ]
  },
  {
   "cell_type": "markdown",
   "metadata": {},
   "source": [
    "The first thing we usually learn how to do is print a simple message to the output. Run the following entry."
   ]
  },
  {
   "cell_type": "code",
   "execution_count": 1,
   "metadata": {},
   "outputs": [
    {
     "name": "stdout",
     "output_type": "stream",
     "text": [
      "Hello World!\n"
     ]
    }
   ],
   "source": [
    "print(\"Hello World!\")"
   ]
  },
  {
   "cell_type": "markdown",
   "metadata": {},
   "source": [
    "Print is function that takes in text as an argument and outputs that text."
   ]
  },
  {
   "cell_type": "markdown",
   "metadata": {},
   "source": [
    "A slightly more complicated example. Run the following entry"
   ]
  },
  {
   "cell_type": "code",
   "execution_count": 2,
   "metadata": {},
   "outputs": [
    {
     "name": "stdout",
     "output_type": "stream",
     "text": [
      "8\n"
     ]
    }
   ],
   "source": [
    "# This is a comment in python\n",
    "\n",
    "# Set a variable\n",
    "x = 1 + 7\n",
    "\n",
    "# print the result of the variable\n",
    "print(x)"
   ]
  },
  {
   "cell_type": "markdown",
   "metadata": {},
   "source": [
    "The lines that begin with \"#\" are comments. They are not read by the notebook and do not affect the code. They are very useful to make your code human readable\n",
    "\n",
    "This snippet of code set assigned the result of `1+7` to the variable `x` and then used `print` to output that value. "
   ]
  },
  {
   "cell_type": "markdown",
   "metadata": {},
   "source": [
    "## Loops"
   ]
  },
  {
   "cell_type": "markdown",
   "metadata": {},
   "source": [
    "One of the benifits of the computer is that it can run a calcualtion many times without having to manually type each line. The way that we do this is to use a **loop**. "
   ]
  },
  {
   "cell_type": "code",
   "execution_count": 12,
   "metadata": {},
   "outputs": [
    {
     "name": "stdout",
     "output_type": "stream",
     "text": [
      "Hello World, iteration 1\n",
      "Hello World, iteration 2\n",
      "Hello World, iteration 3\n"
     ]
    }
   ],
   "source": [
    "# This is an example of a loop\n",
    "\n",
    "# The colon is required on the first line\n",
    "for i in (1,2,3):\n",
    "    # This indentation is required for loops\n",
    "    print (\"Hello World, iteration\",i)"
   ]
  },
  {
   "cell_type": "markdown",
   "metadata": {},
   "source": [
    "### Explanation\n",
    "\n",
    "1. The command `for` tells the code that this is a loop\n",
    "2. The variable `i` is the counting variable. Everytime the loop runs, it will sequentially take on a different value from the list\n",
    "3. The `(1,2,3)` is list of values. "
   ]
  },
  {
   "cell_type": "markdown",
   "metadata": {},
   "source": [
    "Sometimes we need to run a loop many times or iterate over a large list of numbers. For this, the `range` command is useful"
   ]
  },
  {
   "cell_type": "code",
   "execution_count": 20,
   "metadata": {},
   "outputs": [
    {
     "name": "stdout",
     "output_type": "stream",
     "text": [
      "Hello World, iteration -3\n",
      "Hello World, iteration -2\n",
      "Hello World, iteration -1\n",
      "Hello World, iteration 0\n",
      "Hello World, iteration 1\n",
      "Hello World, iteration 2\n"
     ]
    }
   ],
   "source": [
    "# The command range(a,b) creates a list of numbers from a to b\n",
    "for i in range(-3,3):\n",
    "    print (\"Hello World, iteration\",i)"
   ]
  },
  {
   "cell_type": "markdown",
   "metadata": {},
   "source": [
    "Note that the `range(a,b)` command makes a list that spans from `a` to `b-1`. \n",
    "In the example above `range(-3,3`) makes a list that goes from -3 to 2"
   ]
  },
  {
   "cell_type": "markdown",
   "metadata": {},
   "source": [
    "## Conditional Statements: IF"
   ]
  },
  {
   "cell_type": "markdown",
   "metadata": {},
   "source": [
    "Many times we want the computer to do something after analyzing a logical statement. **If this is true, then do that**. These are called conditional statements"
   ]
  },
  {
   "cell_type": "code",
   "execution_count": 28,
   "metadata": {},
   "outputs": [
    {
     "name": "stdout",
     "output_type": "stream",
     "text": [
      "the number is positive\n"
     ]
    }
   ],
   "source": [
    "# Conditional example\n",
    "\n",
    "a = 100\n",
    "\n",
    "if (a>0):\n",
    "    #Like in the loop example, the indentation defines what happens in this\n",
    "    # block of the if statement\n",
    "    print(\"the number is positive\")\n",
    "elif (a<0):\n",
    "    print(\"the number is negative\")\n",
    "elif (a==0):\n",
    "    print(\"the number is zero\")"
   ]
  },
  {
   "cell_type": "markdown",
   "metadata": {},
   "source": [
    "Now we can try it again with a different value for `a`"
   ]
  },
  {
   "cell_type": "code",
   "execution_count": 31,
   "metadata": {},
   "outputs": [
    {
     "name": "stdout",
     "output_type": "stream",
     "text": [
      "the number is negative\n"
     ]
    }
   ],
   "source": [
    "# Conditional example again\n",
    "\n",
    "a = -1234\n",
    "\n",
    "if (a>0): \n",
    "    print(\"the number is positive\")\n",
    "elif (a<0):\n",
    "    print(\"the number is negative\")\n",
    "elif (a==0):\n",
    "    print(\"the number is zero\")"
   ]
  },
  {
   "cell_type": "markdown",
   "metadata": {},
   "source": [
    "Once more time"
   ]
  },
  {
   "cell_type": "code",
   "execution_count": 32,
   "metadata": {
    "scrolled": true
   },
   "outputs": [
    {
     "name": "stdout",
     "output_type": "stream",
     "text": [
      "the number is zero\n"
     ]
    }
   ],
   "source": [
    "# Conditional example again\n",
    "\n",
    "a = 0\n",
    "\n",
    "if (a>0):\n",
    "    print(\"the number is positive\")\n",
    "elif (a<0):\n",
    "    print(\"the number is negative\")\n",
    "elif (a==0):\n",
    "    print(\"the number is zero\")"
   ]
  },
  {
   "cell_type": "markdown",
   "metadata": {},
   "source": [
    "## Bringing it all together"
   ]
  },
  {
   "cell_type": "markdown",
   "metadata": {},
   "source": [
    "These can all be combined together to perform complicated actions. Note the indentation and colons. They matter."
   ]
  },
  {
   "cell_type": "markdown",
   "metadata": {},
   "source": [
    "### Combined Example"
   ]
  },
  {
   "cell_type": "code",
   "execution_count": 39,
   "metadata": {},
   "outputs": [
    {
     "name": "stdout",
     "output_type": "stream",
     "text": [
      "Iteration -1\n",
      "Iteration 0\n",
      "zero!\n",
      "Iteration 1\n"
     ]
    }
   ],
   "source": [
    "# A loop with an if statement\n",
    "\n",
    "for i in range(-1,2):\n",
    "    print(\"Iteration\",i)\n",
    "    if (i==0): \n",
    "        print(\"zero!\")"
   ]
  },
  {
   "cell_type": "markdown",
   "metadata": {},
   "source": [
    "# Exercise"
   ]
  },
  {
   "cell_type": "markdown",
   "metadata": {},
   "source": [
    "Following the examples above, write a code snippet that uses the `range` command to scan from -10 to 10 and print whether the number is positive, negative, or zero. \n",
    "\n",
    "**To turn this in, print this notebook and please make sure that your name is written on in.**"
   ]
  },
  {
   "cell_type": "code",
   "execution_count": null,
   "metadata": {
    "collapsed": true
   },
   "outputs": [],
   "source": []
  }
 ],
 "metadata": {
  "kernelspec": {
   "display_name": "Python 3",
   "language": "python",
   "name": "python3"
  },
  "language_info": {
   "codemirror_mode": {
    "name": "ipython",
    "version": 3
   },
   "file_extension": ".py",
   "mimetype": "text/x-python",
   "name": "python",
   "nbconvert_exporter": "python",
   "pygments_lexer": "ipython3",
   "version": "3.7.3"
  }
 },
 "nbformat": 4,
 "nbformat_minor": 2
}
